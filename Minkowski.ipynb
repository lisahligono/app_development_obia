{
 "cells": [
  {
   "cell_type": "code",
   "execution_count": 2,
   "id": "7518c60d",
   "metadata": {},
   "outputs": [
    {
     "name": "stdout",
     "output_type": "stream",
     "text": [
      "A:\n",
      " [[0 1 0]\n",
      " [1 1 1]\n",
      " [0 1 0]]\n",
      "B:\n",
      " [[1 1]\n",
      " [1 1]]\n",
      "A ⊕ B:\n",
      " [[0 1 0]\n",
      " [1 1 1]\n",
      " [1 2 0]\n",
      " [2 2 1]]\n",
      "A ⊖ B:\n",
      " [[0 1 0]\n",
      " [1 1 1]\n",
      " [0 1 0]]\n"
     ]
    }
   ],
   "source": [
    "import numpy as np\n",
    "\n",
    "def minkowski_addition(A, B):\n",
    "    # Reshape B to have the same number of dimensions as A\n",
    "    B_reshaped = np.zeros_like(A)\n",
    "    B_reshaped[:B.shape[0], :B.shape[1]] = B\n",
    "    # Perform Minkowski addition of binary images A and B\n",
    "    # by adding every point in A to every point in B\n",
    "    return np.unique(np.asarray([(a+b) for a in A for b in B_reshaped]), axis=0)\n",
    "\n",
    "def minkowski_subtraction(A, B):\n",
    "    # Reshape B to have the same number of dimensions as A\n",
    "    B_reshaped = np.zeros_like(A)\n",
    "    B_reshaped[:B.shape[0], :B.shape[1]] = B\n",
    "    # Perform Minkowski subtraction of binary images A and B\n",
    "    # by subtracting every point in B from every point in A\n",
    "    # and keeping only the resulting points that lie within A\n",
    "    return np.asarray([a for a in A if np.all([(a+b) in A for b in B_reshaped])])\n",
    "\n",
    "# Example usage:\n",
    "A = np.array([[0, 1, 0], [1, 1, 1], [0, 1, 0]])\n",
    "B = np.array([[1, 1], [1, 1]])\n",
    "A_plus_B = minkowski_addition(A, B)\n",
    "A_minus_B = minkowski_subtraction(A, B)\n",
    "print(\"A:\\n\", A)\n",
    "print(\"B:\\n\", B)\n",
    "print(\"A ⊕ B:\\n\", A_plus_B)\n",
    "print(\"A ⊖ B:\\n\", A_minus_B)\n"
   ]
  },
  {
   "cell_type": "code",
   "execution_count": null,
   "id": "82d42990",
   "metadata": {},
   "outputs": [],
   "source": []
  }
 ],
 "metadata": {
  "kernelspec": {
   "display_name": "environment",
   "language": "python",
   "name": "environment"
  },
  "language_info": {
   "codemirror_mode": {
    "name": "ipython",
    "version": 3
   },
   "file_extension": ".py",
   "mimetype": "text/x-python",
   "name": "python",
   "nbconvert_exporter": "python",
   "pygments_lexer": "ipython3",
   "version": "3.11.3"
  }
 },
 "nbformat": 4,
 "nbformat_minor": 5
}
